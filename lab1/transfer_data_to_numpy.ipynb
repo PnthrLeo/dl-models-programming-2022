{
 "cells": [
  {
   "cell_type": "code",
   "execution_count": 9,
   "metadata": {},
   "outputs": [],
   "source": [
    "import cupy as np\n",
    "import cv2 as cv\n",
    "import scipy.io as io\n",
    "import matplotlib.pyplot as plt\n",
    "from tqdm import tqdm"
   ]
  },
  {
   "cell_type": "code",
   "execution_count": 5,
   "metadata": {},
   "outputs": [],
   "source": [
    "import sys\n",
    "sys.path.append(\"./\")"
   ]
  },
  {
   "cell_type": "code",
   "execution_count": 6,
   "metadata": {},
   "outputs": [],
   "source": [
    "DATA_PATH = 'data/cars_{}'\n",
    "DATA_ANNO_PATH = 'data/cars_{}_annos.mat'"
   ]
  },
  {
   "cell_type": "code",
   "execution_count": 10,
   "metadata": {},
   "outputs": [
    {
     "name": "stderr",
     "output_type": "stream",
     "text": [
      "100%|██████████| 8144/8144 [00:35<00:00, 230.45it/s]\n",
      "100%|██████████| 8041/8041 [00:38<00:00, 211.35it/s]\n"
     ]
    }
   ],
   "source": [
    "def conv_mat_to_np(data_path, anno_path):\n",
    "    anno = io.loadmat(anno_path)\n",
    "    anno = anno['annotations'][0]\n",
    "    images = []\n",
    "    labels = []\n",
    "    for i in tqdm(range(len(anno))):\n",
    "        label = anno[i][4][0][0]\n",
    "        image_name = anno[i][5][0]\n",
    "        image_path = data_path + '/' + image_name\n",
    "        img = cv.imread(image_path)\n",
    "        img = cv.resize(img, (224, 224))\n",
    "        img = cv.cvtColor(img, cv.COLOR_BGR2RGB)\n",
    "        images.append(img)\n",
    "        labels.append(label)\n",
    "    \n",
    "    images = np.array(images)\n",
    "    labels = np.array(labels)\n",
    "    \n",
    "    np_file_path = anno_path.replace('mat', 'npz')\n",
    "    np.savez(np_file_path, images, labels)\n",
    "\n",
    "for data_name in ['train', 'test']:\n",
    "    data_path = DATA_PATH.format(data_name)\n",
    "    data_anno_path = DATA_ANNO_PATH.format(data_name)\n",
    "    conv_mat_to_np(data_path, data_anno_path)"
   ]
  },
  {
   "cell_type": "code",
   "execution_count": 23,
   "metadata": {},
   "outputs": [
    {
     "data": {
      "text/plain": [
       "(8041,)"
      ]
     },
     "execution_count": 23,
     "metadata": {},
     "output_type": "execute_result"
    }
   ],
   "source": [
    "np.load('data/cars_test_annos.npz')['arr_1'].shape"
   ]
  },
  {
   "cell_type": "code",
   "execution_count": 26,
   "metadata": {},
   "outputs": [
    {
     "data": {
      "text/plain": [
       "(1, 196)"
      ]
     },
     "execution_count": 26,
     "metadata": {},
     "output_type": "execute_result"
    }
   ],
   "source": [
    "io.loadmat('data/cars_meta.mat')['class_names'].shape"
   ]
  },
  {
   "cell_type": "code",
   "execution_count": null,
   "metadata": {},
   "outputs": [],
   "source": []
  }
 ],
 "metadata": {
  "kernelspec": {
   "display_name": "Python 3.10.6 ('image-processing')",
   "language": "python",
   "name": "python3"
  },
  "language_info": {
   "codemirror_mode": {
    "name": "ipython",
    "version": 3
   },
   "file_extension": ".py",
   "mimetype": "text/x-python",
   "name": "python",
   "nbconvert_exporter": "python",
   "pygments_lexer": "ipython3",
   "version": "3.10.6"
  },
  "orig_nbformat": 4,
  "vscode": {
   "interpreter": {
    "hash": "9f2d1712ad61a1680ef1e32d8f888e03ab49bcfa8a6ea21125ccac88d7602bd7"
   }
  }
 },
 "nbformat": 4,
 "nbformat_minor": 2
}
